{
 "cells": [
  {
   "cell_type": "code",
   "execution_count": 1,
   "metadata": {},
   "outputs": [],
   "source": [
    "import numpy as np\n",
    "import math\n",
    "from sortedcontainers import SortedDict\n",
    "import random\n",
    "from scipy.stats import truncnorm\n",
    "import csv\n",
    "import sys\n",
    "import copy\n",
    "import imp\n",
    "from scipy.stats import norm\n",
    "import scipy.special as ss\n",
    "\n",
    "import matplotlib.pyplot as plt\n",
    "from celluloid import Camera #need to install it (pip install celluloid)"
   ]
  },
  {
   "cell_type": "code",
   "execution_count": 2,
   "metadata": {},
   "outputs": [],
   "source": [
    "#inputs\n",
    "num_gens = 150\n",
    "change_pos = 1\n",
    "change_strat = 0\n",
    "sd_adjust = 1\n",
    "\n",
    "strat_interval = .25 #.05 for additive, .25 for logit\n",
    "pos_interval = 50\n",
    "\n",
    "males = 10\n",
    "dist_val = 1000\n",
    "dist = dist_val # distance between males\n",
    "\n",
    "male_pos=[0,50,100,150, 200, 250, 300, 350, 400, 450]\n",
    "# male_pos=[0,100,200, 300, 400, 500, 600, 700, 800, 900]\n",
    "male_strat=[.15,.15,.15,.15,.15,.15,.15,.15,.15,.15]\n",
    "\n",
    "\n",
    "if len(male_pos)!=males | len(male_strat)!=males:\n",
    "    print(\"ERROR -- # of males doesn't match pos/strat input\")\n",
    "\n",
    "\n",
    " # FEMALES\n",
    "F_per_M = 9 #The number of sexualy mature females per sexually mature male\n",
    "females = males * F_per_M # number of female birds"
   ]
  },
  {
   "cell_type": "code",
   "execution_count": 3,
   "metadata": {},
   "outputs": [],
   "source": [
    "def adjust_pos(pos, dist, pos_interval, sd_below):\n",
    "    rnd = np.random.uniform(-pos_interval,pos_interval)\n",
    "    rnd_sd = sd_below*rnd\n",
    "    new_pos = (rnd_sd + pos)%dist \n",
    "    return new_pos\n",
    "\n",
    "\n",
    "def adjust_strat(strat, strat_interval, sd_below):\n",
    "    rnd = np.random.uniform(-strat_interval, strat_interval)\n",
    "    rnd_sd = sd_below*rnd\n",
    "    new_strat = rnd_sd + strat\n",
    "    if new_strat < 0:\n",
    "        new_strat=0\n",
    "    if new_strat > 1:\n",
    "        new_strat = 1\n",
    "    return new_strat\n",
    "\n",
    "def logit_adjust_strat(strat, strat_interval, sd_below): #a good strat_interval for this is .25 \n",
    "    rnd = np.random.uniform(-strat_interval, strat_interval)\n",
    "    rnd_sd = sd_below*rnd\n",
    "    new_strat = ss.expit(ss.logit(strat)+rnd_sd)\n",
    "    return new_strat"
   ]
  },
  {
   "cell_type": "code",
   "execution_count": 4,
   "metadata": {},
   "outputs": [],
   "source": [
    "def null_evolve(males, females, dist,male_pos, male_strat, num_gens, change_pos, change_strat, pos_interval, strat_interval, sd_adjust):\n",
    "    fig = plt.figure()\n",
    "    camera = Camera(fig)\n",
    "    plt.axes(projection='polar')\n",
    "    for i in range(num_gens):\n",
    "        female_choices = random.choices(range(males), k=females)\n",
    "        matings = [female_choices.count(x) for x in range(males)]\n",
    "        rads = np.array([male_p/dist for male_p in male_pos]) * 2 * np.pi\n",
    "        for id in range(males):\n",
    "            radian = rads[id]\n",
    "            plt.polar(radian, 1,'o', color=  plt.cm.tab10(id)) \n",
    "            if np.cos(radian)>0:\n",
    "                al=\"left\"\n",
    "            else:\n",
    "                al=\"right\"\n",
    "            stratstr = \"\"\n",
    "            if change_strat==1:\n",
    "                stratstr=\": \" + str(round(male_strat[id],2))\n",
    "            lab=str(id) + stratstr\n",
    "            plt.text(radian, 1.1, lab, horizontalalignment=al)\n",
    "        plt.text(np.pi/2, 1.2, \"\".join([\"Gen=\", str(i)]), horizontalalignment=\"center\") \n",
    "        camera.snap()\n",
    "        underperformer_ids = np.squeeze(np.argwhere(np.asarray(matings)<9))\n",
    "        sd=np.std(matings)\n",
    "        sd_below=1\n",
    "        for up_id in underperformer_ids:\n",
    "            if sd_adjust==1:\n",
    "                sd_below=(9-matings[up_id])/sd\n",
    "            if change_pos == 1:\n",
    "                male_pos[up_id]=adjust_pos(male_pos[up_id], dist, pos_interval, sd_below)\n",
    "            if change_strat == 1:\n",
    "                #male_strat[up_id]=adjust_strat(birds[up_id][\"probability_maraud\"], strat_interval, sd_below)\n",
    "                male_strat[up_id]=logit_adjust_strat(male_strat[up_id], strat_interval, sd_below)\n",
    "    lines, labels = plt.rgrids( () )\n",
    "    lines, labels = plt.thetagrids( () )\n",
    "    animation = camera.animate(interval=500) #a good rate, seems independent of # of gens\n",
    "    plt.rcParams[\"animation.convert_path\"] = \"C:\\ProgramFiles\\ImageMagick\\magick.exe\"\n",
    "    animation.save('test_null_evolve.gif', writer=\"imagemagick\", extra_args=\"convert\")\n",
    "                \n",
    "                \n",
    "#null_evolve(males, females, dist,male_pos, male_strat, num_gens, change_pos, change_strat, pos_interval, strat_interval, sd_adjust)\n",
    "#well they look similar :("
   ]
  },
  {
   "cell_type": "code",
   "execution_count": 5,
   "metadata": {},
   "outputs": [
    {
     "name": "stderr",
     "output_type": "stream",
     "text": [
      "MovieWriter imagemagick unavailable.\n"
     ]
    },
    {
     "data": {
      "text/plain": [
       "11.8340011"
      ]
     },
     "execution_count": 5,
     "metadata": {},
     "output_type": "execute_result"
    },
    {
     "data": {
      "image/png": "[encoded data removed]",
      "text/plain": [
       "<Figure size 432x288 with 1 Axes>"
      ]
     },
     "metadata": {},
     "output_type": "display_data"
    }
   ],
   "source": [
    "import timeit\n",
    "\n",
    "def wrapper(func, *args, **kwargs):\n",
    "    def wrapped():\n",
    "        return func(*args, **kwargs)\n",
    "    return wrapped\n",
    "\n",
    "wrapped = wrapper(null_evolve, males, females, dist,male_pos, male_strat, num_gens, change_pos, change_strat, pos_interval, strat_interval, sd_adjust)\n",
    "timeit.timeit(wrapped, number=1)"
   ]
  },
  {
   "cell_type": "code",
   "execution_count": 6,
   "metadata": {},
   "outputs": [],
   "source": [
    "#NOTES\n",
    "\n",
    "#timed runs with relevant parameters\n",
    "\n",
    "# #inputs\n",
    "# num_gens = 150\n",
    "# change_pos = 1\n",
    "# change_strat = 0\n",
    "# sd_adjust = 1\n",
    "\n",
    "# strat_interval = .25 #.05 for additive, .25 for logit\n",
    "# pos_interval = 50\n",
    "\n",
    "# males = 10\n",
    "# dist_val = 1000\n",
    "# dist = dist_val # distance between males\n",
    "\n",
    "# male_pos=[0,50,100,150, 200, 250, 300, 350, 400, 450]\n",
    "# # male_pos=[0,100,200, 300, 400, 500, 600, 700, 800, 900]\n",
    "# male_strat=[.15,.15,.15,.15,.15,.15,.15,.15,.15,.15]\n",
    "\n",
    "# time: ~10secs"
   ]
  }
 ],
 "metadata": {
  "kernelspec": {
   "display_name": "Python 3",
   "language": "python",
   "name": "python3"
  },
  "language_info": {
   "codemirror_mode": {
    "name": "ipython",
    "version": 3
   },
   "file_extension": ".py",
   "mimetype": "text/x-python",
   "name": "python",
   "nbconvert_exporter": "python",
   "pygments_lexer": "ipython3",
   "version": "3.6.5"
  }
 },
 "nbformat": 4,
 "nbformat_minor": 2
}
